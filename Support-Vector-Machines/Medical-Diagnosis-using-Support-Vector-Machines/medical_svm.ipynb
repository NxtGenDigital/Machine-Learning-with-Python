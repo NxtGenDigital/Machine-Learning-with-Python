{
  "nbformat": 4,
  "nbformat_minor": 0,
  "metadata": {
    "colab": {
      "name": "medical_svm.ipynb",
      "provenance": [],
      "collapsed_sections": []
    },
    "kernelspec": {
      "name": "python3",
      "display_name": "Python 3"
    }
  },
  "cells": [
    {
      "cell_type": "markdown",
      "metadata": {
        "id": "swyKumC5H2So"
      },
      "source": [
        "Medical Diagnosis with Support Vector Machines\n"
      ]
    },
    {
      "cell_type": "code",
      "metadata": {
        "id": "Hr6bFN3OHnit"
      },
      "source": [
        "from sklearn.metrics import accuracy_score, classification_report\n",
        "from sklearn.model_selection import train_test_split\n",
        "from sklearn.preprocessing import StandardScaler\n",
        "from sklearn import svm\n",
        "import pandas as pd\n",
        "import numpy as np\n"
      ],
      "execution_count": 2,
      "outputs": []
    },
    {
      "cell_type": "markdown",
      "metadata": {
        "id": "3QcQ4_hfH96N"
      },
      "source": [
        "Get Data\n"
      ]
    },
    {
      "cell_type": "code",
      "metadata": {
        "id": "dPIZ7XYdH6uX",
        "outputId": "e04e3420-5e7e-43bc-ea24-99fe6fc27632",
        "colab": {
          "base_uri": "https://localhost:8080/",
          "height": 212
        }
      },
      "source": [
        "column_names = [\"pregnancies\", \"glucose\", \"bpressure\", \"skinfold\", \"insulin\", \"bmi\", \"pedigree\", \"age\", \"class\"]\n",
        "\n",
        "df = pd.read_csv('/content/data.csv', names = column_names)\n",
        "print(df.shape)\n",
        "df.head()"
      ],
      "execution_count": 3,
      "outputs": [
        {
          "output_type": "stream",
          "text": [
            "(768, 9)\n"
          ],
          "name": "stdout"
        },
        {
          "output_type": "execute_result",
          "data": {
            "text/html": [
              "<div>\n",
              "<style scoped>\n",
              "    .dataframe tbody tr th:only-of-type {\n",
              "        vertical-align: middle;\n",
              "    }\n",
              "\n",
              "    .dataframe tbody tr th {\n",
              "        vertical-align: top;\n",
              "    }\n",
              "\n",
              "    .dataframe thead th {\n",
              "        text-align: right;\n",
              "    }\n",
              "</style>\n",
              "<table border=\"1\" class=\"dataframe\">\n",
              "  <thead>\n",
              "    <tr style=\"text-align: right;\">\n",
              "      <th></th>\n",
              "      <th>pregnancies</th>\n",
              "      <th>glucose</th>\n",
              "      <th>bpressure</th>\n",
              "      <th>skinfold</th>\n",
              "      <th>insulin</th>\n",
              "      <th>bmi</th>\n",
              "      <th>pedigree</th>\n",
              "      <th>age</th>\n",
              "      <th>class</th>\n",
              "    </tr>\n",
              "  </thead>\n",
              "  <tbody>\n",
              "    <tr>\n",
              "      <th>0</th>\n",
              "      <td>6</td>\n",
              "      <td>148</td>\n",
              "      <td>72</td>\n",
              "      <td>35</td>\n",
              "      <td>0</td>\n",
              "      <td>33.6</td>\n",
              "      <td>0.627</td>\n",
              "      <td>50</td>\n",
              "      <td>1</td>\n",
              "    </tr>\n",
              "    <tr>\n",
              "      <th>1</th>\n",
              "      <td>1</td>\n",
              "      <td>85</td>\n",
              "      <td>66</td>\n",
              "      <td>29</td>\n",
              "      <td>0</td>\n",
              "      <td>26.6</td>\n",
              "      <td>0.351</td>\n",
              "      <td>31</td>\n",
              "      <td>0</td>\n",
              "    </tr>\n",
              "    <tr>\n",
              "      <th>2</th>\n",
              "      <td>8</td>\n",
              "      <td>183</td>\n",
              "      <td>64</td>\n",
              "      <td>0</td>\n",
              "      <td>0</td>\n",
              "      <td>23.3</td>\n",
              "      <td>0.672</td>\n",
              "      <td>32</td>\n",
              "      <td>1</td>\n",
              "    </tr>\n",
              "    <tr>\n",
              "      <th>3</th>\n",
              "      <td>1</td>\n",
              "      <td>89</td>\n",
              "      <td>66</td>\n",
              "      <td>23</td>\n",
              "      <td>94</td>\n",
              "      <td>28.1</td>\n",
              "      <td>0.167</td>\n",
              "      <td>21</td>\n",
              "      <td>0</td>\n",
              "    </tr>\n",
              "    <tr>\n",
              "      <th>4</th>\n",
              "      <td>0</td>\n",
              "      <td>137</td>\n",
              "      <td>40</td>\n",
              "      <td>35</td>\n",
              "      <td>168</td>\n",
              "      <td>43.1</td>\n",
              "      <td>2.288</td>\n",
              "      <td>33</td>\n",
              "      <td>1</td>\n",
              "    </tr>\n",
              "  </tbody>\n",
              "</table>\n",
              "</div>"
            ],
            "text/plain": [
              "   pregnancies  glucose  bpressure  skinfold  ...   bmi  pedigree  age  class\n",
              "0            6      148         72        35  ...  33.6     0.627   50      1\n",
              "1            1       85         66        29  ...  26.6     0.351   31      0\n",
              "2            8      183         64         0  ...  23.3     0.672   32      1\n",
              "3            1       89         66        23  ...  28.1     0.167   21      0\n",
              "4            0      137         40        35  ...  43.1     2.288   33      1\n",
              "\n",
              "[5 rows x 9 columns]"
            ]
          },
          "metadata": {
            "tags": []
          },
          "execution_count": 3
        }
      ]
    },
    {
      "cell_type": "markdown",
      "metadata": {
        "id": "-k-LbBViIVUk"
      },
      "source": [
        "Extract Features"
      ]
    },
    {
      "cell_type": "code",
      "metadata": {
        "id": "Di-qif2xIXUz",
        "outputId": "37405aa1-6633-4b28-c633-c8a4422ee447",
        "colab": {
          "base_uri": "https://localhost:8080/",
          "height": 195
        }
      },
      "source": [
        "X = df.iloc[:,:8]\n",
        "X.head()"
      ],
      "execution_count": 4,
      "outputs": [
        {
          "output_type": "execute_result",
          "data": {
            "text/html": [
              "<div>\n",
              "<style scoped>\n",
              "    .dataframe tbody tr th:only-of-type {\n",
              "        vertical-align: middle;\n",
              "    }\n",
              "\n",
              "    .dataframe tbody tr th {\n",
              "        vertical-align: top;\n",
              "    }\n",
              "\n",
              "    .dataframe thead th {\n",
              "        text-align: right;\n",
              "    }\n",
              "</style>\n",
              "<table border=\"1\" class=\"dataframe\">\n",
              "  <thead>\n",
              "    <tr style=\"text-align: right;\">\n",
              "      <th></th>\n",
              "      <th>pregnancies</th>\n",
              "      <th>glucose</th>\n",
              "      <th>bpressure</th>\n",
              "      <th>skinfold</th>\n",
              "      <th>insulin</th>\n",
              "      <th>bmi</th>\n",
              "      <th>pedigree</th>\n",
              "      <th>age</th>\n",
              "    </tr>\n",
              "  </thead>\n",
              "  <tbody>\n",
              "    <tr>\n",
              "      <th>0</th>\n",
              "      <td>6</td>\n",
              "      <td>148</td>\n",
              "      <td>72</td>\n",
              "      <td>35</td>\n",
              "      <td>0</td>\n",
              "      <td>33.6</td>\n",
              "      <td>0.627</td>\n",
              "      <td>50</td>\n",
              "    </tr>\n",
              "    <tr>\n",
              "      <th>1</th>\n",
              "      <td>1</td>\n",
              "      <td>85</td>\n",
              "      <td>66</td>\n",
              "      <td>29</td>\n",
              "      <td>0</td>\n",
              "      <td>26.6</td>\n",
              "      <td>0.351</td>\n",
              "      <td>31</td>\n",
              "    </tr>\n",
              "    <tr>\n",
              "      <th>2</th>\n",
              "      <td>8</td>\n",
              "      <td>183</td>\n",
              "      <td>64</td>\n",
              "      <td>0</td>\n",
              "      <td>0</td>\n",
              "      <td>23.3</td>\n",
              "      <td>0.672</td>\n",
              "      <td>32</td>\n",
              "    </tr>\n",
              "    <tr>\n",
              "      <th>3</th>\n",
              "      <td>1</td>\n",
              "      <td>89</td>\n",
              "      <td>66</td>\n",
              "      <td>23</td>\n",
              "      <td>94</td>\n",
              "      <td>28.1</td>\n",
              "      <td>0.167</td>\n",
              "      <td>21</td>\n",
              "    </tr>\n",
              "    <tr>\n",
              "      <th>4</th>\n",
              "      <td>0</td>\n",
              "      <td>137</td>\n",
              "      <td>40</td>\n",
              "      <td>35</td>\n",
              "      <td>168</td>\n",
              "      <td>43.1</td>\n",
              "      <td>2.288</td>\n",
              "      <td>33</td>\n",
              "    </tr>\n",
              "  </tbody>\n",
              "</table>\n",
              "</div>"
            ],
            "text/plain": [
              "   pregnancies  glucose  bpressure  skinfold  insulin   bmi  pedigree  age\n",
              "0            6      148         72        35        0  33.6     0.627   50\n",
              "1            1       85         66        29        0  26.6     0.351   31\n",
              "2            8      183         64         0        0  23.3     0.672   32\n",
              "3            1       89         66        23       94  28.1     0.167   21\n",
              "4            0      137         40        35      168  43.1     2.288   33"
            ]
          },
          "metadata": {
            "tags": []
          },
          "execution_count": 4
        }
      ]
    },
    {
      "cell_type": "markdown",
      "metadata": {
        "id": "lHyDtLz3IdeC"
      },
      "source": [
        "Extract Class Labels"
      ]
    },
    {
      "cell_type": "code",
      "metadata": {
        "id": "oujSdp_fIfED",
        "outputId": "90c36cb5-40af-4715-ffbd-1013a5605f1a",
        "colab": {
          "base_uri": "https://localhost:8080/",
          "height": 118
        }
      },
      "source": [
        "y = df['class']\n",
        "y.head()"
      ],
      "execution_count": 5,
      "outputs": [
        {
          "output_type": "execute_result",
          "data": {
            "text/plain": [
              "0    1\n",
              "1    0\n",
              "2    1\n",
              "3    0\n",
              "4    1\n",
              "Name: class, dtype: int64"
            ]
          },
          "metadata": {
            "tags": []
          },
          "execution_count": 5
        }
      ]
    },
    {
      "cell_type": "markdown",
      "metadata": {
        "id": "IVh7FXFmIn_Y"
      },
      "source": [
        "Split Dataset"
      ]
    },
    {
      "cell_type": "code",
      "metadata": {
        "id": "QalRn3OGIjdQ",
        "outputId": "d30a343e-bd9d-49a5-99b9-1414329d386e",
        "colab": {
          "base_uri": "https://localhost:8080/",
          "height": 262
        }
      },
      "source": [
        "X_train, X_test, y_train, y_test = train_test_split(X,\n",
        "                                                    y,\n",
        "                                                    test_size = 0.25, \n",
        "                                                    random_state = 0)\n",
        "print(X_train.shape)\n",
        "print(X_test.shape)\n",
        "print(y_train.shape)\n",
        "print(y_test.shape)\n",
        "\n",
        "X_test.head()"
      ],
      "execution_count": 6,
      "outputs": [
        {
          "output_type": "stream",
          "text": [
            "(576, 8)\n",
            "(192, 8)\n",
            "(576,)\n",
            "(192,)\n"
          ],
          "name": "stdout"
        },
        {
          "output_type": "execute_result",
          "data": {
            "text/html": [
              "<div>\n",
              "<style scoped>\n",
              "    .dataframe tbody tr th:only-of-type {\n",
              "        vertical-align: middle;\n",
              "    }\n",
              "\n",
              "    .dataframe tbody tr th {\n",
              "        vertical-align: top;\n",
              "    }\n",
              "\n",
              "    .dataframe thead th {\n",
              "        text-align: right;\n",
              "    }\n",
              "</style>\n",
              "<table border=\"1\" class=\"dataframe\">\n",
              "  <thead>\n",
              "    <tr style=\"text-align: right;\">\n",
              "      <th></th>\n",
              "      <th>pregnancies</th>\n",
              "      <th>glucose</th>\n",
              "      <th>bpressure</th>\n",
              "      <th>skinfold</th>\n",
              "      <th>insulin</th>\n",
              "      <th>bmi</th>\n",
              "      <th>pedigree</th>\n",
              "      <th>age</th>\n",
              "    </tr>\n",
              "  </thead>\n",
              "  <tbody>\n",
              "    <tr>\n",
              "      <th>661</th>\n",
              "      <td>1</td>\n",
              "      <td>199</td>\n",
              "      <td>76</td>\n",
              "      <td>43</td>\n",
              "      <td>0</td>\n",
              "      <td>42.9</td>\n",
              "      <td>1.394</td>\n",
              "      <td>22</td>\n",
              "    </tr>\n",
              "    <tr>\n",
              "      <th>122</th>\n",
              "      <td>2</td>\n",
              "      <td>107</td>\n",
              "      <td>74</td>\n",
              "      <td>30</td>\n",
              "      <td>100</td>\n",
              "      <td>33.6</td>\n",
              "      <td>0.404</td>\n",
              "      <td>23</td>\n",
              "    </tr>\n",
              "    <tr>\n",
              "      <th>113</th>\n",
              "      <td>4</td>\n",
              "      <td>76</td>\n",
              "      <td>62</td>\n",
              "      <td>0</td>\n",
              "      <td>0</td>\n",
              "      <td>34.0</td>\n",
              "      <td>0.391</td>\n",
              "      <td>25</td>\n",
              "    </tr>\n",
              "    <tr>\n",
              "      <th>14</th>\n",
              "      <td>5</td>\n",
              "      <td>166</td>\n",
              "      <td>72</td>\n",
              "      <td>19</td>\n",
              "      <td>175</td>\n",
              "      <td>25.8</td>\n",
              "      <td>0.587</td>\n",
              "      <td>51</td>\n",
              "    </tr>\n",
              "    <tr>\n",
              "      <th>529</th>\n",
              "      <td>0</td>\n",
              "      <td>111</td>\n",
              "      <td>65</td>\n",
              "      <td>0</td>\n",
              "      <td>0</td>\n",
              "      <td>24.6</td>\n",
              "      <td>0.660</td>\n",
              "      <td>31</td>\n",
              "    </tr>\n",
              "  </tbody>\n",
              "</table>\n",
              "</div>"
            ],
            "text/plain": [
              "     pregnancies  glucose  bpressure  skinfold  insulin   bmi  pedigree  age\n",
              "661            1      199         76        43        0  42.9     1.394   22\n",
              "122            2      107         74        30      100  33.6     0.404   23\n",
              "113            4       76         62         0        0  34.0     0.391   25\n",
              "14             5      166         72        19      175  25.8     0.587   51\n",
              "529            0      111         65         0        0  24.6     0.660   31"
            ]
          },
          "metadata": {
            "tags": []
          },
          "execution_count": 6
        }
      ]
    },
    {
      "cell_type": "markdown",
      "metadata": {
        "id": "Ag4pxf66Iw2g"
      },
      "source": [
        "Normalize Features"
      ]
    },
    {
      "cell_type": "code",
      "metadata": {
        "id": "jWMrLutdIyeT",
        "outputId": "b84d5573-7b03-4e25-f156-4f722712dca3",
        "colab": {
          "base_uri": "https://localhost:8080/",
          "height": 185
        }
      },
      "source": [
        "scaler = StandardScaler()\n",
        "scaler.fit(X_train)\n",
        "X_train = scaler.transform(X_train)\n",
        "X_train[:5,:]"
      ],
      "execution_count": 7,
      "outputs": [
        {
          "output_type": "execute_result",
          "data": {
            "text/plain": [
              "array([[ 1.50755225, -1.01521454, -0.40451932, -1.31921491, -0.71823753,\n",
              "        -1.22070104, -0.98325882, -0.04863985],\n",
              "       [-0.82986389, -0.09964691, -0.61509602,  0.9287299 ,  0.08374747,\n",
              "         0.13719053, -0.62493647, -0.88246592],\n",
              "       [-1.12204091, -0.95207195,  0.54307587, -1.31921491, -0.71823753,\n",
              "         0.0240329 ,  0.39884168, -0.5489355 ],\n",
              "       [ 2.38408331,  0.59492164,  0.64836422,  1.36583027,  2.05458297,\n",
              "         0.87900167,  0.17903049,  2.03592532],\n",
              "       [ 1.50755225,  0.75277813,  0.54307587,  1.55315901,  0.39089067,\n",
              "         0.71555175,  0.50724171,  0.53503839]])"
            ]
          },
          "metadata": {
            "tags": []
          },
          "execution_count": 7
        }
      ]
    },
    {
      "cell_type": "markdown",
      "metadata": {
        "id": "HkFpIOO7I5Jb"
      },
      "source": [
        "Training a Support Vector Machine"
      ]
    },
    {
      "cell_type": "code",
      "metadata": {
        "id": "JsxV480kJAYe",
        "outputId": "5e2a1cf1-170c-4417-b402-09ae7be4b5ac",
        "colab": {
          "base_uri": "https://localhost:8080/",
          "height": 84
        }
      },
      "source": [
        "clf = svm. SVC(kernel = 'sigmoid')\n",
        "clf.fit(X_train, y_train)\n"
      ],
      "execution_count": 8,
      "outputs": [
        {
          "output_type": "execute_result",
          "data": {
            "text/plain": [
              "SVC(C=1.0, break_ties=False, cache_size=200, class_weight=None, coef0=0.0,\n",
              "    decision_function_shape='ovr', degree=3, gamma='scale', kernel='sigmoid',\n",
              "    max_iter=-1, probability=False, random_state=None, shrinking=True,\n",
              "    tol=0.001, verbose=False)"
            ]
          },
          "metadata": {
            "tags": []
          },
          "execution_count": 8
        }
      ]
    },
    {
      "cell_type": "markdown",
      "metadata": {
        "id": "I10atP9PJGEE"
      },
      "source": [
        "Decision Boundary"
      ]
    },
    {
      "cell_type": "code",
      "metadata": {
        "id": "wmHm8XUcJHhG",
        "outputId": "58ed37d4-3a62-42ac-be95-4da1321c43af",
        "colab": {
          "base_uri": "https://localhost:8080/",
          "height": 302
        }
      },
      "source": [
        "y_pred = clf.predict(X_train)\n",
        "print(y_pred)\n",
        "print(accuracy_score(y_train, y_pred))"
      ],
      "execution_count": 9,
      "outputs": [
        {
          "output_type": "stream",
          "text": [
            "[0 0 0 0 1 1 0 1 0 0 0 1 0 0 0 0 0 0 0 0 0 0 0 0 0 0 0 0 0 0 1 0 1 1 0 0 0\n",
            " 0 1 1 0 0 1 0 0 0 0 1 1 1 0 0 0 1 0 1 1 1 0 1 0 0 0 0 0 1 0 0 1 0 0 1 0 0\n",
            " 1 1 0 0 1 0 0 1 1 0 0 0 0 0 0 1 1 0 0 0 1 0 0 0 1 0 0 1 0 0 0 0 0 1 0 0 0\n",
            " 0 1 1 0 1 0 0 0 0 0 0 0 0 0 1 1 0 0 0 0 0 0 1 1 1 0 1 1 1 1 0 0 0 0 0 0 0\n",
            " 1 0 1 1 0 0 0 0 1 0 0 0 0 0 0 1 1 0 0 0 1 1 1 0 1 1 1 0 0 1 1 0 0 0 0 1 1\n",
            " 0 0 1 1 0 0 1 1 1 1 0 1 0 0 0 1 0 1 1 0 0 1 0 1 0 0 1 1 0 0 0 0 0 0 1 0 1\n",
            " 0 0 0 1 1 0 1 0 1 1 0 0 0 1 0 0 0 1 0 1 1 0 1 0 0 1 0 1 1 0 0 1 0 0 0 1 1\n",
            " 0 0 1 0 0 1 1 1 1 0 0 0 1 1 1 1 1 1 0 1 0 1 1 0 0 0 1 0 0 1 1 1 0 0 1 1 1\n",
            " 0 1 1 0 0 0 0 0 1 0 1 0 1 0 0 0 0 0 0 1 1 1 0 0 0 0 0 0 1 0 0 0 0 1 0 0 0\n",
            " 0 1 0 1 0 0 0 0 0 0 1 0 0 1 0 1 1 0 0 1 0 0 0 0 1 0 0 0 0 0 1 0 0 0 0 0 0\n",
            " 0 1 0 1 0 0 0 1 0 1 0 1 0 0 0 1 0 1 0 0 0 1 1 0 0 0 0 0 0 1 0 1 1 0 0 0 0\n",
            " 1 1 0 0 0 1 1 1 0 1 0 1 0 1 0 0 0 1 1 1 0 1 0 1 0 0 0 1 1 0 0 1 0 1 1 0 0\n",
            " 0 0 1 0 0 0 0 0 0 0 1 0 1 1 1 1 0 0 1 1 1 1 1 0 0 1 0 0 0 1 0 0 0 0 0 0 0\n",
            " 1 0 1 0 1 0 1 0 0 1 0 0 0 1 0 0 0 0 0 0 0 0 0 0 1 0 0 0 1 0 0 1 0 0 0 0 0\n",
            " 0 0 1 0 0 0 0 0 0 1 0 1 0 1 0 1 0 0 0 0 1 0 0 0 1 0 0 1 0 0 0 1 1 0 0 1 0\n",
            " 0 0 1 0 1 0 0 0 0 0 1 0 1 0 1 0 0 0 0 0 1]\n",
            "0.6510416666666666\n"
          ],
          "name": "stdout"
        }
      ]
    },
    {
      "cell_type": "markdown",
      "metadata": {
        "id": "6vjU9SrPJO24"
      },
      "source": [
        "SVM Kernels"
      ]
    },
    {
      "cell_type": "code",
      "metadata": {
        "id": "cd2DV3VKJRF3",
        "outputId": "03aa9c63-54dc-4313-ce2e-f6cffad979d7",
        "colab": {
          "base_uri": "https://localhost:8080/",
          "height": 151
        }
      },
      "source": [
        "for k in ('linear', 'poly', 'rbf', 'sigmoid'):\n",
        "    clf= svm.SVC(kernel = k)\n",
        "    clf.fit(X_train, y_train)\n",
        "    y_pred = clf.predict(X_train)\n",
        "    print(k)\n",
        "    print(accuracy_score(y_train, y_pred))"
      ],
      "execution_count": 10,
      "outputs": [
        {
          "output_type": "stream",
          "text": [
            "linear\n",
            "0.7638888888888888\n",
            "poly\n",
            "0.7934027777777778\n",
            "rbf\n",
            "0.8246527777777778\n",
            "sigmoid\n",
            "0.6510416666666666\n"
          ],
          "name": "stdout"
        }
      ]
    },
    {
      "cell_type": "markdown",
      "metadata": {
        "id": "F_duzbaiPN7E"
      },
      "source": [
        "Instantiating the Best Model"
      ]
    },
    {
      "cell_type": "code",
      "metadata": {
        "id": "3_IzSCPyPJ77",
        "outputId": "de7acc81-615d-4c17-8060-c3e9e749c224",
        "colab": {
          "base_uri": "https://localhost:8080/",
          "height": 84
        }
      },
      "source": [
        "clf = svm.SVC(kernel= 'rbf')\n",
        "clf.fit(X_train, y_train)"
      ],
      "execution_count": 12,
      "outputs": [
        {
          "output_type": "execute_result",
          "data": {
            "text/plain": [
              "SVC(C=1.0, break_ties=False, cache_size=200, class_weight=None, coef0=0.0,\n",
              "    decision_function_shape='ovr', degree=3, gamma='scale', kernel='rbf',\n",
              "    max_iter=-1, probability=False, random_state=None, shrinking=True,\n",
              "    tol=0.001, verbose=False)"
            ]
          },
          "metadata": {
            "tags": []
          },
          "execution_count": 12
        }
      ]
    },
    {
      "cell_type": "markdown",
      "metadata": {
        "id": "_2LFLteiPkSE"
      },
      "source": [
        "Making a single prediction\n"
      ]
    },
    {
      "cell_type": "code",
      "metadata": {
        "id": "ErUXrgoKPSsj",
        "outputId": "80a1d506-bcc7-40a1-8cf2-9417fd17a41c",
        "colab": {
          "base_uri": "https://localhost:8080/",
          "height": 34
        }
      },
      "source": [
        "# \"pregnancies\", \"glucose\", \"bpressure\", \n",
        "# \"skinfold\", \"insulin\", \"bmi\", \n",
        "# \"pedigree\", \"age\", \"class\"\n",
        "\n",
        "patient = np.array([[ 1., 200., 75., 100., 0., 45.,1.5, 20. ],])\n",
        "patient = scaler.transform(patient)\n",
        "pred = clf.predict(patient)\n",
        "\n",
        "if pred == 1:\n",
        "    print('Patient has diabetes')\n",
        "if pred == 0:\n",
        "    print('Patient does not have diabetes')"
      ],
      "execution_count": 13,
      "outputs": [
        {
          "output_type": "stream",
          "text": [
            "Patient has diabetes\n"
          ],
          "name": "stdout"
        }
      ]
    },
    {
      "cell_type": "markdown",
      "metadata": {
        "id": "Jk67tVZUPq3D"
      },
      "source": [
        "Testing Set Prediction\n"
      ]
    },
    {
      "cell_type": "code",
      "metadata": {
        "id": "H_WGbnmTPsLs",
        "outputId": "c707b85d-89f1-41b9-d57a-8bafd2325ea0",
        "colab": {
          "base_uri": "https://localhost:8080/",
          "height": 50
        }
      },
      "source": [
        "patient= np.array([X_test.iloc[8,:]])\n",
        "patient = scaler.transform(patient)\n",
        "print(clf.predict(patient))\n",
        "print(y_test.iloc[8])"
      ],
      "execution_count": 14,
      "outputs": [
        {
          "output_type": "stream",
          "text": [
            "[1]\n",
            "0\n"
          ],
          "name": "stdout"
        }
      ]
    },
    {
      "cell_type": "markdown",
      "metadata": {
        "id": "BN0oxTiOPyCX"
      },
      "source": [
        "Accuracy on Testing Set"
      ]
    },
    {
      "cell_type": "code",
      "metadata": {
        "id": "IvqsrdUZPzhF",
        "outputId": "87c99a21-885e-4a34-b771-fc5e874e871f",
        "colab": {
          "base_uri": "https://localhost:8080/",
          "height": 34
        }
      },
      "source": [
        "X_test = scaler.transform(X_test)\n",
        "y_pred = clf.predict(X_test)\n",
        "print (accuracy_score(y_test, y_pred))"
      ],
      "execution_count": 15,
      "outputs": [
        {
          "output_type": "stream",
          "text": [
            "0.7760416666666666\n"
          ],
          "name": "stdout"
        }
      ]
    },
    {
      "cell_type": "markdown",
      "metadata": {
        "id": "pmsCF2jGP7Mi"
      },
      "source": [
        "Comparison to All-Zero Prediction"
      ]
    },
    {
      "cell_type": "code",
      "metadata": {
        "id": "Bitmu5XaP8X_",
        "outputId": "0e4d7241-9b17-482f-e087-e0f55de5481d",
        "colab": {
          "base_uri": "https://localhost:8080/",
          "height": 34
        }
      },
      "source": [
        "y_zero = np.zeros(y_test.shape)\n",
        "print(accuracy_score(y_test, y_zero))"
      ],
      "execution_count": 16,
      "outputs": [
        {
          "output_type": "stream",
          "text": [
            "0.6770833333333334\n"
          ],
          "name": "stdout"
        }
      ]
    },
    {
      "cell_type": "markdown",
      "metadata": {
        "id": "L8LSfT5fQCaG"
      },
      "source": [
        "Task 5: Precision and Recall\n"
      ]
    },
    {
      "cell_type": "code",
      "metadata": {
        "id": "PlQ9T8kzP_L4",
        "outputId": "639ad693-71ac-4e98-ebd7-a78f00d3692a",
        "colab": {
          "base_uri": "https://localhost:8080/",
          "height": 168
        }
      },
      "source": [
        "print(classification_report(y_test, y_pred))\n"
      ],
      "execution_count": 17,
      "outputs": [
        {
          "output_type": "stream",
          "text": [
            "              precision    recall  f1-score   support\n",
            "\n",
            "           0       0.80      0.90      0.84       130\n",
            "           1       0.71      0.52      0.60        62\n",
            "\n",
            "    accuracy                           0.78       192\n",
            "   macro avg       0.75      0.71      0.72       192\n",
            "weighted avg       0.77      0.78      0.77       192\n",
            "\n"
          ],
          "name": "stdout"
        }
      ]
    },
    {
      "cell_type": "markdown",
      "metadata": {
        "id": "nbh7aXT4QQNq"
      },
      "source": [
        "Demo\n"
      ]
    },
    {
      "cell_type": "code",
      "metadata": {
        "id": "IGk-0crRQRkE",
        "outputId": "b9d3f625-5dcb-4511-980b-81e4caa0b70b",
        "colab": {
          "base_uri": "https://localhost:8080/",
          "height": 50
        }
      },
      "source": [
        "import numpy as np\n",
        "import pandas as pd\n",
        "from sklearn import svm\n",
        "from sklearn.preprocessing import StandardScaler\n",
        "from sklearn.model_selection import train_test_split\n",
        "from sklearn.metrics import accuracy_score, classification_report\n",
        "\n",
        "column_names = [\"pregnancies\", \"glucose\", \"bpressure\", \"skinfold\", \"insulin\", \"bmi\", \"pedigree\", \"age\", \"class\"]\n",
        "df = pd.read_csv(\"data.csv\", names=column_names)\n",
        "X = df.iloc[:,:8]\n",
        "y = df['class']\n",
        "\n",
        "X_train, X_test, y_train, y_test = train_test_split(X, y, test_size=0.25, random_state=0)\n",
        "scaler = StandardScaler()\n",
        "scaler.fit(X_train)\n",
        "X_train = scaler.transform(X_train)\n",
        "\n",
        "clf = svm.SVC(kernel='rbf')\n",
        "clf.fit(X_train, y_train)\n",
        "\n",
        "patient = np.array([[ 1., 200., 75., 40., 0., 45.,1.5, 20. ],])\n",
        "patient = scaler.transform(patient)\n",
        "pred = clf.predict(patient)\n",
        "\n",
        "if pred == 1:\n",
        "    print(\"Patient has diabetes\")\n",
        "if pred == 0:\n",
        "    print(\"Patient does not have diabetes\")\n",
        "\n",
        "X_test = scaler.transform(X_test)\n",
        "y_pred = clf.predict(X_test)\n",
        "print(accuracy_score(y_test, y_pred))"
      ],
      "execution_count": 18,
      "outputs": [
        {
          "output_type": "stream",
          "text": [
            "Patient has diabetes\n",
            "0.7760416666666666\n"
          ],
          "name": "stdout"
        }
      ]
    },
    {
      "cell_type": "markdown",
      "metadata": {
        "id": "KLzTWwMoQYkf"
      },
      "source": [
        "Predicting a patient's condition"
      ]
    },
    {
      "cell_type": "code",
      "metadata": {
        "id": "rbi94Nq_QaAK",
        "outputId": "d1654ab3-37e8-42d6-a5b4-97038277a47f",
        "colab": {
          "base_uri": "https://localhost:8080/",
          "height": 34
        }
      },
      "source": [
        "patient = np.array([[ 1., 200., 75., 40., 0., 45.,1.5, 20. ],])\n",
        "patient = scaler.transform(patient)\n",
        "pred = clf.predict(patient)\n",
        "\n",
        "if pred == 1:\n",
        "    print(\"Patient has diabetes\")\n",
        "if pred == 0:\n",
        "    print(\"Patient does not have diabetes\")"
      ],
      "execution_count": 19,
      "outputs": [
        {
          "output_type": "stream",
          "text": [
            "Patient has diabetes\n"
          ],
          "name": "stdout"
        }
      ]
    }
  ]
}