{
  "nbformat": 4,
  "nbformat_minor": 0,
  "metadata": {
    "colab": {
      "name": "kmeans-clustering.ipynb",
      "provenance": [],
      "collapsed_sections": []
    },
    "kernelspec": {
      "name": "python3",
      "display_name": "Python 3"
    }
  },
  "cells": [
    {
      "cell_type": "code",
      "metadata": {
        "id": "NwsJxtY5qW37"
      },
      "source": [
        "%matplotlib inline\n",
        "import matplotlib.pyplot as plt\n",
        "import numpy as np\n",
        "import seaborn as sns;\n",
        "from sklearn import datasets"
      ],
      "execution_count": 1,
      "outputs": []
    },
    {
      "cell_type": "code",
      "metadata": {
        "id": "t2j2lIb-qgal"
      },
      "source": [
        "def Kmeans(data,no_of_clusters):\n",
        "    \n",
        "    color = ['r','g','b','y','c','m','k','w']\n",
        "    #initialising the centroids\n",
        "    rand_data = data.copy()       #As we dont want to distort the data\n",
        "    np.random.shuffle(rand_data)\n",
        "    centroids = rand_data[:no_of_clusters]\n",
        "    \n",
        "    #first clustering after calculating the eucleadian distance from centroids to each points\n",
        "    distances = np.sqrt(((data-centroids[:, np.newaxis])**2).sum(axis=2))\n",
        "    clustered_data = np.argmin(distances, axis=0)\n",
        "    print(clustered_data)\n",
        "    \n",
        "    while True:\n",
        "        new_centroids = np.array([data[clustered_data==k].mean(axis=0) for k in range(centroids.shape[0])])\n",
        "        distances = np.sqrt(((data - new_centroids[:, np.newaxis])**2).sum(axis=2))\n",
        "        temp_clustered_data = np.argmin(distances, axis=0)\n",
        "        if np.array_equal(temp_clustered_data,clustered_data):\n",
        "            break;\n",
        "        else:\n",
        "            clustered_data = temp_clustered_data\n",
        "    \n",
        "    arr = np.unique(clustered_data)\n",
        "    \n",
        "    indices_to_plot = []\n",
        "    fig = plt.figure()\n",
        "    fig.suptitle('Scatter Plot for clusters')\n",
        "    ax = fig.add_subplot(1,1,1)\n",
        "    ax.set_xlabel('X')\n",
        "    ax.set_ylabel('Y')\n",
        "    for x in np.nditer(arr):\n",
        "        indices_to_plot.append(np.where(clustered_data==x))\n",
        "    p=0\n",
        "    \n",
        "    print(clustered_data)\n",
        "    for i in range(0,len(indices_to_plot)):\n",
        "        for j in np.nditer(indices_to_plot[i]):\n",
        "               ax.scatter(data[j,0],data[j,1], c= color[p])\n",
        "        p = p + 1\n",
        "        \n",
        "    plt.show()\n",
        "        \n",
        "            \n",
        "    return clustered_data"
      ],
      "execution_count": 3,
      "outputs": []
    },
    {
      "cell_type": "code",
      "metadata": {
        "id": "TLVSsynxqlnb"
      },
      "source": [
        "iris = datasets.load_iris()\n",
        "X = iris.data\n",
        "feature_names = iris.feature_names\n",
        "y = iris.target\n",
        "target_names = iris.target_names"
      ],
      "execution_count": 4,
      "outputs": []
    },
    {
      "cell_type": "code",
      "metadata": {
        "id": "nOqQ-6iCqpSI",
        "outputId": "4fff17d4-e18f-438b-ecab-92153ee86350",
        "colab": {
          "base_uri": "https://localhost:8080/",
          "height": 594
        }
      },
      "source": [
        "Kmeans(X,3)\n"
      ],
      "execution_count": 5,
      "outputs": [
        {
          "output_type": "stream",
          "text": [
            "[2 0 0 0 2 1 2 2 0 0 2 2 0 0 2 2 2 2 1 2 1 2 2 1 2 0 1 2 2 0 0 1 2 2 0 0 2\n",
            " 2 0 2 2 0 0 1 1 0 2 0 2 2 1 1 1 1 1 1 1 1 1 1 1 1 1 1 1 1 1 1 1 1 1 1 1 1\n",
            " 1 1 1 1 1 1 1 1 1 1 1 1 1 1 1 1 1 1 1 1 1 1 1 1 1 1 1 1 1 1 1 1 1 1 1 1 1\n",
            " 1 1 1 1 1 1 1 1 1 1 1 1 1 1 1 1 1 1 1 1 1 1 1 1 1 1 1 1 1 1 1 1 1 1 1 1 1\n",
            " 1 1]\n",
            "[2 0 0 0 2 2 0 2 0 0 2 2 0 0 2 2 2 2 2 2 2 2 2 2 0 0 2 2 2 0 0 2 2 2 0 2 2\n",
            " 2 0 2 2 0 0 2 2 0 2 0 2 2 1 1 1 1 1 1 1 0 1 1 0 1 1 1 1 1 1 1 1 1 1 1 1 1\n",
            " 1 1 1 1 1 1 1 1 1 1 1 1 1 1 1 1 1 1 1 0 1 1 1 1 0 1 1 1 1 1 1 1 1 1 1 1 1\n",
            " 1 1 1 1 1 1 1 1 1 1 1 1 1 1 1 1 1 1 1 1 1 1 1 1 1 1 1 1 1 1 1 1 1 1 1 1 1\n",
            " 1 1]\n"
          ],
          "name": "stdout"
        },
        {
          "output_type": "display_data",
          "data": {
            "image/png": "[encoded data removed]",
            "text/plain": [
              "<Figure size 432x288 with 1 Axes>"
            ]
          },
          "metadata": {
            "tags": [],
            "needs_background": "light"
          }
        },
        {
          "output_type": "execute_result",
          "data": {
            "text/plain": [
              "array([2, 0, 0, 0, 2, 2, 0, 2, 0, 0, 2, 2, 0, 0, 2, 2, 2, 2, 2, 2, 2, 2,\n",
              "       2, 2, 0, 0, 2, 2, 2, 0, 0, 2, 2, 2, 0, 2, 2, 2, 0, 2, 2, 0, 0, 2,\n",
              "       2, 0, 2, 0, 2, 2, 1, 1, 1, 1, 1, 1, 1, 0, 1, 1, 0, 1, 1, 1, 1, 1,\n",
              "       1, 1, 1, 1, 1, 1, 1, 1, 1, 1, 1, 1, 1, 1, 1, 1, 1, 1, 1, 1, 1, 1,\n",
              "       1, 1, 1, 1, 1, 0, 1, 1, 1, 1, 0, 1, 1, 1, 1, 1, 1, 1, 1, 1, 1, 1,\n",
              "       1, 1, 1, 1, 1, 1, 1, 1, 1, 1, 1, 1, 1, 1, 1, 1, 1, 1, 1, 1, 1, 1,\n",
              "       1, 1, 1, 1, 1, 1, 1, 1, 1, 1, 1, 1, 1, 1, 1, 1, 1, 1])"
            ]
          },
          "metadata": {
            "tags": []
          },
          "execution_count": 5
        }
      ]
    },
    {
      "cell_type": "code",
      "metadata": {
        "id": "HeMT-QJ4qt1_",
        "outputId": "ed1a364e-09bc-4185-f682-9961bdef51a9",
        "colab": {
          "base_uri": "https://localhost:8080/",
          "height": 392
        }
      },
      "source": [
        "arr = np.unique(y)\n",
        "color = ['r','g','b','y','c','m','k','w'] \n",
        "indices_to_plot = []\n",
        "fig = plt.figure()\n",
        "fig.suptitle('Scatter Plot for clusters')\n",
        "ax = fig.add_subplot(1,1,1)\n",
        "ax.set_xlabel('X')\n",
        "ax.set_ylabel('Y')\n",
        "for x in np.nditer(arr):\n",
        "    indices_to_plot.append(np.where(y==x))\n",
        "p=0\n",
        "    \n",
        "print(y)\n",
        "for i in range(0,len(indices_to_plot)):\n",
        "    for j in np.nditer(indices_to_plot[i]):\n",
        "        ax.scatter(X[j,1],X[j,2], c= color[p])\n",
        "    p = p + 1\n",
        "        \n",
        "plt.show()"
      ],
      "execution_count": 6,
      "outputs": [
        {
          "output_type": "stream",
          "text": [
            "[0 0 0 0 0 0 0 0 0 0 0 0 0 0 0 0 0 0 0 0 0 0 0 0 0 0 0 0 0 0 0 0 0 0 0 0 0\n",
            " 0 0 0 0 0 0 0 0 0 0 0 0 0 1 1 1 1 1 1 1 1 1 1 1 1 1 1 1 1 1 1 1 1 1 1 1 1\n",
            " 1 1 1 1 1 1 1 1 1 1 1 1 1 1 1 1 1 1 1 1 1 1 1 1 1 1 2 2 2 2 2 2 2 2 2 2 2\n",
            " 2 2 2 2 2 2 2 2 2 2 2 2 2 2 2 2 2 2 2 2 2 2 2 2 2 2 2 2 2 2 2 2 2 2 2 2 2\n",
            " 2 2]\n"
          ],
          "name": "stdout"
        },
        {
          "output_type": "display_data",
          "data": {
            "image/png": "[encoded data removed]",
            "text/plain": [
              "<Figure size 432x288 with 1 Axes>"
            ]
          },
          "metadata": {
            "tags": [],
            "needs_background": "light"
          }
        }
      ]
    },
    {
      "cell_type": "code",
      "metadata": {
        "id": "utScaC9qqxde",
        "outputId": "74c15b7a-30f3-4245-9de8-a74519c702ab",
        "colab": {
          "base_uri": "https://localhost:8080/",
          "height": 134
        }
      },
      "source": [
        "y"
      ],
      "execution_count": 7,
      "outputs": [
        {
          "output_type": "execute_result",
          "data": {
            "text/plain": [
              "array([0, 0, 0, 0, 0, 0, 0, 0, 0, 0, 0, 0, 0, 0, 0, 0, 0, 0, 0, 0, 0, 0,\n",
              "       0, 0, 0, 0, 0, 0, 0, 0, 0, 0, 0, 0, 0, 0, 0, 0, 0, 0, 0, 0, 0, 0,\n",
              "       0, 0, 0, 0, 0, 0, 1, 1, 1, 1, 1, 1, 1, 1, 1, 1, 1, 1, 1, 1, 1, 1,\n",
              "       1, 1, 1, 1, 1, 1, 1, 1, 1, 1, 1, 1, 1, 1, 1, 1, 1, 1, 1, 1, 1, 1,\n",
              "       1, 1, 1, 1, 1, 1, 1, 1, 1, 1, 1, 1, 2, 2, 2, 2, 2, 2, 2, 2, 2, 2,\n",
              "       2, 2, 2, 2, 2, 2, 2, 2, 2, 2, 2, 2, 2, 2, 2, 2, 2, 2, 2, 2, 2, 2,\n",
              "       2, 2, 2, 2, 2, 2, 2, 2, 2, 2, 2, 2, 2, 2, 2, 2, 2, 2])"
            ]
          },
          "metadata": {
            "tags": []
          },
          "execution_count": 7
        }
      ]
    },
    {
      "cell_type": "code",
      "metadata": {
        "id": "E9tOv4inq0yi"
      },
      "source": [
        "data = X\n",
        "no_of_clusters = 3\n",
        "rand_data = data.copy()       #As we dont want to distort the data\n",
        "np.random.shuffle(rand_data)\n",
        "centroids = rand_data[:no_of_clusters]\n",
        "    \n",
        "#first clustering after calculating the eucleadian distance from centroids to each points"
      ],
      "execution_count": 8,
      "outputs": []
    },
    {
      "cell_type": "code",
      "metadata": {
        "id": "EG8kACLKq3MA"
      },
      "source": [
        "data = data[0:10,:]\n"
      ],
      "execution_count": 9,
      "outputs": []
    },
    {
      "cell_type": "code",
      "metadata": {
        "id": "3v1pxmgrq6An"
      },
      "source": [
        "rand_data = data.copy()       #As we dont want to distort the data\n",
        "np.random.shuffle(rand_data)\n",
        "centroids = rand_data[:no_of_clusters]"
      ],
      "execution_count": 10,
      "outputs": []
    },
    {
      "cell_type": "code",
      "metadata": {
        "id": "D0l_XAkAq8oJ",
        "outputId": "5f8e3fd2-8346-4134-e0ac-976ce5a3eac1",
        "colab": {
          "base_uri": "https://localhost:8080/",
          "height": 34
        }
      },
      "source": [
        "centroids.shape\n"
      ],
      "execution_count": 11,
      "outputs": [
        {
          "output_type": "execute_result",
          "data": {
            "text/plain": [
              "(3, 4)"
            ]
          },
          "metadata": {
            "tags": []
          },
          "execution_count": 11
        }
      ]
    },
    {
      "cell_type": "code",
      "metadata": {
        "id": "nO5jgdfbq-xG",
        "outputId": "45a07d4f-2502-4037-eda4-c195995dadd3",
        "colab": {
          "base_uri": "https://localhost:8080/",
          "height": 185
        }
      },
      "source": [
        "data\n"
      ],
      "execution_count": 12,
      "outputs": [
        {
          "output_type": "execute_result",
          "data": {
            "text/plain": [
              "array([[5.1, 3.5, 1.4, 0.2],\n",
              "       [4.9, 3. , 1.4, 0.2],\n",
              "       [4.7, 3.2, 1.3, 0.2],\n",
              "       [4.6, 3.1, 1.5, 0.2],\n",
              "       [5. , 3.6, 1.4, 0.2],\n",
              "       [5.4, 3.9, 1.7, 0.4],\n",
              "       [4.6, 3.4, 1.4, 0.3],\n",
              "       [5. , 3.4, 1.5, 0.2],\n",
              "       [4.4, 2.9, 1.4, 0.2],\n",
              "       [4.9, 3.1, 1.5, 0.1]])"
            ]
          },
          "metadata": {
            "tags": []
          },
          "execution_count": 12
        }
      ]
    },
    {
      "cell_type": "code",
      "metadata": {
        "id": "_3DCSH7rrBAB",
        "outputId": "0a339a9a-7104-4cb9-ebcb-389eab35e846",
        "colab": {
          "base_uri": "https://localhost:8080/",
          "height": 67
        }
      },
      "source": [
        "centroids\n"
      ],
      "execution_count": 13,
      "outputs": [
        {
          "output_type": "execute_result",
          "data": {
            "text/plain": [
              "array([[4.7, 3.2, 1.3, 0.2],\n",
              "       [4.6, 3.1, 1.5, 0.2],\n",
              "       [4.4, 2.9, 1.4, 0.2]])"
            ]
          },
          "metadata": {
            "tags": []
          },
          "execution_count": 13
        }
      ]
    },
    {
      "cell_type": "code",
      "metadata": {
        "id": "sK8JsoeSrDCO",
        "outputId": "7a97c182-d97a-4d54-85c5-d089dc5e4238",
        "colab": {
          "base_uri": "https://localhost:8080/",
          "height": 101
        }
      },
      "source": [
        "centroids[:, np.newaxis]\n"
      ],
      "execution_count": 14,
      "outputs": [
        {
          "output_type": "execute_result",
          "data": {
            "text/plain": [
              "array([[[4.7, 3.2, 1.3, 0.2]],\n",
              "\n",
              "       [[4.6, 3.1, 1.5, 0.2]],\n",
              "\n",
              "       [[4.4, 2.9, 1.4, 0.2]]])"
            ]
          },
          "metadata": {
            "tags": []
          },
          "execution_count": 14
        }
      ]
    },
    {
      "cell_type": "code",
      "metadata": {
        "id": "iP6igu-RrKGP",
        "outputId": "95385875-9d7e-4b25-feb6-d7e1ebc6514a",
        "colab": {
          "base_uri": "https://localhost:8080/",
          "height": 554
        }
      },
      "source": [
        "((data-centroids[:, np.newaxis])**2)\n"
      ],
      "execution_count": 15,
      "outputs": [
        {
          "output_type": "execute_result",
          "data": {
            "text/plain": [
              "array([[[0.16, 0.09, 0.01, 0.  ],\n",
              "        [0.04, 0.04, 0.01, 0.  ],\n",
              "        [0.  , 0.  , 0.  , 0.  ],\n",
              "        [0.01, 0.01, 0.04, 0.  ],\n",
              "        [0.09, 0.16, 0.01, 0.  ],\n",
              "        [0.49, 0.49, 0.16, 0.04],\n",
              "        [0.01, 0.04, 0.01, 0.01],\n",
              "        [0.09, 0.04, 0.04, 0.  ],\n",
              "        [0.09, 0.09, 0.01, 0.  ],\n",
              "        [0.04, 0.01, 0.04, 0.01]],\n",
              "\n",
              "       [[0.25, 0.16, 0.01, 0.  ],\n",
              "        [0.09, 0.01, 0.01, 0.  ],\n",
              "        [0.01, 0.01, 0.04, 0.  ],\n",
              "        [0.  , 0.  , 0.  , 0.  ],\n",
              "        [0.16, 0.25, 0.01, 0.  ],\n",
              "        [0.64, 0.64, 0.04, 0.04],\n",
              "        [0.  , 0.09, 0.01, 0.01],\n",
              "        [0.16, 0.09, 0.  , 0.  ],\n",
              "        [0.04, 0.04, 0.01, 0.  ],\n",
              "        [0.09, 0.  , 0.  , 0.01]],\n",
              "\n",
              "       [[0.49, 0.36, 0.  , 0.  ],\n",
              "        [0.25, 0.01, 0.  , 0.  ],\n",
              "        [0.09, 0.09, 0.01, 0.  ],\n",
              "        [0.04, 0.04, 0.01, 0.  ],\n",
              "        [0.36, 0.49, 0.  , 0.  ],\n",
              "        [1.  , 1.  , 0.09, 0.04],\n",
              "        [0.04, 0.25, 0.  , 0.01],\n",
              "        [0.36, 0.25, 0.01, 0.  ],\n",
              "        [0.  , 0.  , 0.  , 0.  ],\n",
              "        [0.25, 0.04, 0.01, 0.01]]])"
            ]
          },
          "metadata": {
            "tags": []
          },
          "execution_count": 15
        }
      ]
    },
    {
      "cell_type": "code",
      "metadata": {
        "id": "eIfszaTcs-MP",
        "outputId": "c8967d85-6292-4c16-8802-9a3acf451b3c",
        "colab": {
          "base_uri": "https://localhost:8080/",
          "height": 118
        }
      },
      "source": [
        "p= np.sqrt(((data-centroids[:, np.newaxis])**2).sum(axis=2))\n",
        "p"
      ],
      "execution_count": 16,
      "outputs": [
        {
          "output_type": "execute_result",
          "data": {
            "text/plain": [
              "array([[0.50990195, 0.3       , 0.        , 0.24494897, 0.50990195,\n",
              "        1.08627805, 0.26457513, 0.41231056, 0.43588989, 0.31622777],\n",
              "       [0.64807407, 0.33166248, 0.24494897, 0.        , 0.64807407,\n",
              "        1.16619038, 0.33166248, 0.5       , 0.3       , 0.31622777],\n",
              "       [0.92195445, 0.50990195, 0.43588989, 0.3       , 0.92195445,\n",
              "        1.45945195, 0.54772256, 0.78740079, 0.        , 0.55677644]])"
            ]
          },
          "metadata": {
            "tags": []
          },
          "execution_count": 16
        }
      ]
    },
    {
      "cell_type": "code",
      "metadata": {
        "id": "guNCgCHRtAwn",
        "outputId": "ef599386-badb-4c2c-cbdc-cb09113d6809",
        "colab": {
          "base_uri": "https://localhost:8080/",
          "height": 34
        }
      },
      "source": [
        "clustered_data = np.argmin(p, axis=0)\n",
        "clustered_data"
      ],
      "execution_count": 17,
      "outputs": [
        {
          "output_type": "execute_result",
          "data": {
            "text/plain": [
              "array([0, 0, 0, 1, 0, 0, 0, 0, 2, 0])"
            ]
          },
          "metadata": {
            "tags": []
          },
          "execution_count": 17
        }
      ]
    },
    {
      "cell_type": "code",
      "metadata": {
        "id": "JAQ6LdOmtDPO"
      },
      "source": [
        "new_centroids = np.array([data[clustered_data==k].mean(axis=0) for k in range(centroids.shape[0])])\n"
      ],
      "execution_count": 18,
      "outputs": []
    },
    {
      "cell_type": "code",
      "metadata": {
        "id": "TWg01WGvtF5s",
        "outputId": "ed206d81-3ba4-4af0-c78d-199e830e6c1a",
        "colab": {
          "base_uri": "https://localhost:8080/",
          "height": 67
        }
      },
      "source": [
        "new_centroids\n"
      ],
      "execution_count": 19,
      "outputs": [
        {
          "output_type": "execute_result",
          "data": {
            "text/plain": [
              "array([[4.95  , 3.3875, 1.45  , 0.225 ],\n",
              "       [4.6   , 3.1   , 1.5   , 0.2   ],\n",
              "       [4.4   , 2.9   , 1.4   , 0.2   ]])"
            ]
          },
          "metadata": {
            "tags": []
          },
          "execution_count": 19
        }
      ]
    },
    {
      "cell_type": "code",
      "metadata": {
        "id": "JDjWcHxItIQh",
        "outputId": "ac1f5663-2812-4332-9cf5-392a6a125404",
        "colab": {
          "base_uri": "https://localhost:8080/",
          "height": 118
        }
      },
      "source": [
        "distances = np.sqrt(((data - new_centroids[:, np.newaxis])**2).sum(axis=2))\n",
        "distances\n"
      ],
      "execution_count": 21,
      "outputs": [
        {
          "output_type": "execute_result",
          "data": {
            "text/plain": [
              "array([[0.19565595, 0.39469134, 0.34753597, 0.45637841, 0.22534695,\n",
              "        0.74718221, 0.3616369 , 0.07603453, 0.73707615, 0.321374  ],\n",
              "       [0.64807407, 0.33166248, 0.24494897, 0.        , 0.64807407,\n",
              "        1.16619038, 0.33166248, 0.5       , 0.3       , 0.31622777],\n",
              "       [0.92195445, 0.50990195, 0.43588989, 0.3       , 0.92195445,\n",
              "        1.45945195, 0.54772256, 0.78740079, 0.        , 0.55677644]])"
            ]
          },
          "metadata": {
            "tags": []
          },
          "execution_count": 21
        }
      ]
    }
  ]
}