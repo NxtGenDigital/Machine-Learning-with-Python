{
  "nbformat": 4,
  "nbformat_minor": 0,
  "metadata": {
    "kernelspec": {
      "display_name": "Python 3",
      "language": "python",
      "name": "python3"
    },
    "language_info": {
      "codemirror_mode": {
        "name": "ipython",
        "version": 3
      },
      "file_extension": ".py",
      "mimetype": "text/x-python",
      "name": "python",
      "nbconvert_exporter": "python",
      "pygments_lexer": "ipython3",
      "version": "3.7.7"
    },
    "colab": {
      "name": "Stratified_Train_Test_Split.ipynb",
      "provenance": [],
      "collapsed_sections": []
    }
  },
  "cells": [
    {
      "cell_type": "markdown",
      "metadata": {
        "id": "nC3hxxzKDIuk"
      },
      "source": [
        "Are you using train_test_split with a classification problem?\n",
        "\n",
        "Be sure to set \"stratify=y\" so that class proportions are preserved when splitting.\n",
        "\n",
        "Especially important if you have class imbalance!"
      ]
    },
    {
      "cell_type": "code",
      "metadata": {
        "id": "PxcVDfvHDIul"
      },
      "source": [
        "import pandas as pd\n",
        "df = pd.DataFrame({'feature':list(range(8)), 'target':['not fraud']*6 + ['fraud']*2})"
      ],
      "execution_count": null,
      "outputs": []
    },
    {
      "cell_type": "code",
      "metadata": {
        "id": "y612UoRcDIum"
      },
      "source": [
        "\n",
        "X = df[['feature']]\n",
        "y = df['target']"
      ],
      "execution_count": null,
      "outputs": []
    },
    {
      "cell_type": "code",
      "metadata": {
        "id": "A-I7Yc66DIum"
      },
      "source": [
        "from sklearn.model_selection import train_test_split"
      ],
      "execution_count": null,
      "outputs": []
    },
    {
      "cell_type": "markdown",
      "metadata": {
        "id": "aLrrfVrqDIum"
      },
      "source": [
        "### Not stratified\n",
        "\n",
        "#### y_train contains NONE of the minority class, whereas y_test contains ALL of the minority class. (This is bad!)"
      ]
    },
    {
      "cell_type": "code",
      "metadata": {
        "id": "zPdwDlB1DIum"
      },
      "source": [
        "X_train, X_test, y_train, y_test = train_test_split(X, y, test_size=0.5, random_state=0)"
      ],
      "execution_count": null,
      "outputs": []
    },
    {
      "cell_type": "code",
      "metadata": {
        "id": "pQOYiu4YDIum",
        "outputId": "8953f19b-9e63-4395-9c64-6f2f01541132"
      },
      "source": [
        "\n",
        "y_train"
      ],
      "execution_count": null,
      "outputs": [
        {
          "output_type": "execute_result",
          "data": {
            "text/plain": [
              "3    not fraud\n",
              "0    not fraud\n",
              "5    not fraud\n",
              "4    not fraud\n",
              "Name: target, dtype: object"
            ]
          },
          "metadata": {
            "tags": []
          },
          "execution_count": 5
        }
      ]
    },
    {
      "cell_type": "code",
      "metadata": {
        "id": "J_BhyMbbDIun",
        "outputId": "1d05a18b-382c-4e16-a1be-e2f58380f110"
      },
      "source": [
        "\n",
        "y_test"
      ],
      "execution_count": null,
      "outputs": [
        {
          "output_type": "execute_result",
          "data": {
            "text/plain": [
              "6        fraud\n",
              "2    not fraud\n",
              "1    not fraud\n",
              "7        fraud\n",
              "Name: target, dtype: object"
            ]
          },
          "metadata": {
            "tags": []
          },
          "execution_count": 6
        }
      ]
    },
    {
      "cell_type": "markdown",
      "metadata": {
        "id": "dJHxcyX_DIuo"
      },
      "source": [
        "### Stratified\n",
        "\n",
        "#### Class proportions are the SAME in y_train and y_test. (This is good!)"
      ]
    },
    {
      "cell_type": "code",
      "metadata": {
        "id": "MIQwfJ8fDIuo"
      },
      "source": [
        "X_train, X_test, y_train, y_test = train_test_split(X, y, test_size=0.5, random_state=0, stratify=y)"
      ],
      "execution_count": null,
      "outputs": []
    },
    {
      "cell_type": "code",
      "metadata": {
        "id": "J5zqWzz0DIuo",
        "outputId": "b2343dee-7235-4f0e-dcc4-91acce4d751c"
      },
      "source": [
        "y_train"
      ],
      "execution_count": null,
      "outputs": [
        {
          "output_type": "execute_result",
          "data": {
            "text/plain": [
              "1    not fraud\n",
              "7        fraud\n",
              "2    not fraud\n",
              "4    not fraud\n",
              "Name: target, dtype: object"
            ]
          },
          "metadata": {
            "tags": []
          },
          "execution_count": 8
        }
      ]
    },
    {
      "cell_type": "code",
      "metadata": {
        "id": "9Swcwjn-DIuo",
        "outputId": "51a856f9-81ce-45af-91b4-ca88153373fc"
      },
      "source": [
        "y_test"
      ],
      "execution_count": null,
      "outputs": [
        {
          "output_type": "execute_result",
          "data": {
            "text/plain": [
              "3    not fraud\n",
              "6        fraud\n",
              "0    not fraud\n",
              "5    not fraud\n",
              "Name: target, dtype: object"
            ]
          },
          "metadata": {
            "tags": []
          },
          "execution_count": 9
        }
      ]
    },
    {
      "cell_type": "code",
      "metadata": {
        "id": "Uv75JwPDDIuo"
      },
      "source": [
        ""
      ],
      "execution_count": null,
      "outputs": []
    }
  ]
}